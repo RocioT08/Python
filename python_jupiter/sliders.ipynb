{
 "cells": [
  {
   "cell_type": "code",
   "execution_count": null,
   "metadata": {},
   "outputs": [],
   "source": [
    "\n",
    "slider = Slider(start=min(data.year), end=max(data.year), step=1, value=min(data.year), title='Year') \n",
    "def update_plot(attr, old, new): \n",
    "yr = slider.value new_\n",
    "data = { \n",
    "    \t‘x': data.gdp[data['year'] == yr],\n",
    "        'y': data.co2[data['year'] == yr], \n",
    "\t    'country': data.country[data['year'] == yr], \n",
    "    \t'region': data.region[data['year'] == yr], \n",
    "        } \n",
    "source.data = new_data\n",
    "plot.title.text = 'CO2 Emissions vs GDP in %d' % y\n"
   ]
  }
 ],
 "metadata": {
  "kernelspec": {
   "display_name": "Python 3",
   "language": "python",
   "name": "python3"
  },
  "language_info": {
   "name": "python",
   "version": "3.11.3"
  },
  "orig_nbformat": 4
 },
 "nbformat": 4,
 "nbformat_minor": 2
}
